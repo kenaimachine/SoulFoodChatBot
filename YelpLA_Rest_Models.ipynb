{
 "cells": [
  {
   "cell_type": "code",
   "execution_count": 1,
   "metadata": {},
   "outputs": [],
   "source": [
    "import pandas as pd  \n",
    "import numpy as np  \n",
    "import matplotlib.pyplot as plt  \n",
    "import seaborn as seabornInstance \n",
    "from sklearn.naive_bayes import GaussianNB\n",
    "from sklearn.neighbors import KNeighborsClassifier\n",
    "from sklearn.model_selection import train_test_split \n",
    "from sklearn import neighbors\n",
    "from sklearn.metrics import mean_squared_error\n",
    "from sklearn.metrics import mean_absolute_error\n",
    "from sklearn.metrics import accuracy_score\n",
    "\n",
    "from sklearn import metrics\n",
    "import ast\n",
    "import re\n",
    "\n",
    "\n",
    "%matplotlib inline"
   ]
  },
  {
   "cell_type": "code",
   "execution_count": null,
   "metadata": {},
   "outputs": [],
   "source": [
    "df_restaurant_LA=df_=pd.read_csv('df_restaurant_LA_buildfinal.csv',low_memory=False)"
   ]
  },
  {
   "cell_type": "code",
   "execution_count": null,
   "metadata": {},
   "outputs": [],
   "source": [
    "df_restaurant_LA"
   ]
  },
  {
   "cell_type": "code",
   "execution_count": 3,
   "metadata": {},
   "outputs": [
    {
     "data": {
      "text/plain": [
       "(176927, 12)"
      ]
     },
     "execution_count": 3,
     "metadata": {},
     "output_type": "execute_result"
    }
   ],
   "source": [
    "df_restaurant_LA.shape"
   ]
  },
  {
   "cell_type": "code",
   "execution_count": 4,
   "metadata": {
    "scrolled": true
   },
   "outputs": [
    {
     "data": {
      "text/html": [
       "<div>\n",
       "<style scoped>\n",
       "    .dataframe tbody tr th:only-of-type {\n",
       "        vertical-align: middle;\n",
       "    }\n",
       "\n",
       "    .dataframe tbody tr th {\n",
       "        vertical-align: top;\n",
       "    }\n",
       "\n",
       "    .dataframe thead th {\n",
       "        text-align: right;\n",
       "    }\n",
       "</style>\n",
       "<table border=\"1\" class=\"dataframe\">\n",
       "  <thead>\n",
       "    <tr style=\"text-align: right;\">\n",
       "      <th></th>\n",
       "      <th>stars_x</th>\n",
       "      <th>stars_y_userRating</th>\n",
       "      <th>useful</th>\n",
       "      <th>negative</th>\n",
       "      <th>neutral</th>\n",
       "      <th>positive</th>\n",
       "      <th>compound</th>\n",
       "      <th>stars_y_userMean</th>\n",
       "    </tr>\n",
       "  </thead>\n",
       "  <tbody>\n",
       "    <tr>\n",
       "      <th>count</th>\n",
       "      <td>176927.000000</td>\n",
       "      <td>176927.000000</td>\n",
       "      <td>176927.000000</td>\n",
       "      <td>176927.000000</td>\n",
       "      <td>176927.000000</td>\n",
       "      <td>176927.000000</td>\n",
       "      <td>176927.000000</td>\n",
       "      <td>176927.000000</td>\n",
       "    </tr>\n",
       "    <tr>\n",
       "      <th>mean</th>\n",
       "      <td>3.788681</td>\n",
       "      <td>3.792751</td>\n",
       "      <td>1.122186</td>\n",
       "      <td>0.045310</td>\n",
       "      <td>0.753040</td>\n",
       "      <td>0.201652</td>\n",
       "      <td>0.692126</td>\n",
       "      <td>3.792751</td>\n",
       "    </tr>\n",
       "    <tr>\n",
       "      <th>std</th>\n",
       "      <td>0.554636</td>\n",
       "      <td>1.309728</td>\n",
       "      <td>3.439485</td>\n",
       "      <td>0.052896</td>\n",
       "      <td>0.099549</td>\n",
       "      <td>0.110680</td>\n",
       "      <td>0.519159</td>\n",
       "      <td>1.169653</td>\n",
       "    </tr>\n",
       "    <tr>\n",
       "      <th>min</th>\n",
       "      <td>2.500000</td>\n",
       "      <td>1.000000</td>\n",
       "      <td>0.000000</td>\n",
       "      <td>0.000000</td>\n",
       "      <td>0.000000</td>\n",
       "      <td>0.000000</td>\n",
       "      <td>-0.999600</td>\n",
       "      <td>1.000000</td>\n",
       "    </tr>\n",
       "    <tr>\n",
       "      <th>25%</th>\n",
       "      <td>3.500000</td>\n",
       "      <td>3.000000</td>\n",
       "      <td>0.000000</td>\n",
       "      <td>0.000000</td>\n",
       "      <td>0.700000</td>\n",
       "      <td>0.124000</td>\n",
       "      <td>0.732600</td>\n",
       "      <td>3.000000</td>\n",
       "    </tr>\n",
       "    <tr>\n",
       "      <th>50%</th>\n",
       "      <td>4.000000</td>\n",
       "      <td>4.000000</td>\n",
       "      <td>0.000000</td>\n",
       "      <td>0.032000</td>\n",
       "      <td>0.766000</td>\n",
       "      <td>0.187000</td>\n",
       "      <td>0.928700</td>\n",
       "      <td>4.000000</td>\n",
       "    </tr>\n",
       "    <tr>\n",
       "      <th>75%</th>\n",
       "      <td>4.000000</td>\n",
       "      <td>5.000000</td>\n",
       "      <td>1.000000</td>\n",
       "      <td>0.068000</td>\n",
       "      <td>0.820000</td>\n",
       "      <td>0.262000</td>\n",
       "      <td>0.976500</td>\n",
       "      <td>5.000000</td>\n",
       "    </tr>\n",
       "    <tr>\n",
       "      <th>max</th>\n",
       "      <td>4.500000</td>\n",
       "      <td>5.000000</td>\n",
       "      <td>235.000000</td>\n",
       "      <td>0.688000</td>\n",
       "      <td>1.000000</td>\n",
       "      <td>1.000000</td>\n",
       "      <td>0.999900</td>\n",
       "      <td>5.000000</td>\n",
       "    </tr>\n",
       "  </tbody>\n",
       "</table>\n",
       "</div>"
      ],
      "text/plain": [
       "             stars_x  stars_y_userRating         useful       negative  \\\n",
       "count  176927.000000       176927.000000  176927.000000  176927.000000   \n",
       "mean        3.788681            3.792751       1.122186       0.045310   \n",
       "std         0.554636            1.309728       3.439485       0.052896   \n",
       "min         2.500000            1.000000       0.000000       0.000000   \n",
       "25%         3.500000            3.000000       0.000000       0.000000   \n",
       "50%         4.000000            4.000000       0.000000       0.032000   \n",
       "75%         4.000000            5.000000       1.000000       0.068000   \n",
       "max         4.500000            5.000000     235.000000       0.688000   \n",
       "\n",
       "             neutral       positive       compound  stars_y_userMean  \n",
       "count  176927.000000  176927.000000  176927.000000     176927.000000  \n",
       "mean        0.753040       0.201652       0.692126          3.792751  \n",
       "std         0.099549       0.110680       0.519159          1.169653  \n",
       "min         0.000000       0.000000      -0.999600          1.000000  \n",
       "25%         0.700000       0.124000       0.732600          3.000000  \n",
       "50%         0.766000       0.187000       0.928700          4.000000  \n",
       "75%         0.820000       0.262000       0.976500          5.000000  \n",
       "max         1.000000       1.000000       0.999900          5.000000  "
      ]
     },
     "execution_count": 4,
     "metadata": {},
     "output_type": "execute_result"
    }
   ],
   "source": [
    "df_restaurant_LA.describe()"
   ]
  },
  {
   "cell_type": "code",
   "execution_count": 5,
   "metadata": {},
   "outputs": [
    {
     "data": {
      "text/plain": [
       "business_id           False\n",
       "user_id               False\n",
       "stars_x               False\n",
       "stars_y_userRating    False\n",
       "text                  False\n",
       "useful                False\n",
       "sentiment_score       False\n",
       "negative              False\n",
       "neutral               False\n",
       "positive              False\n",
       "compound              False\n",
       "stars_y_userMean      False\n",
       "dtype: bool"
      ]
     },
     "execution_count": 5,
     "metadata": {},
     "output_type": "execute_result"
    }
   ],
   "source": [
    "df_restaurant_LA.isnull().any()"
   ]
  },
  {
   "cell_type": "code",
   "execution_count": 6,
   "metadata": {},
   "outputs": [],
   "source": [
    "#divide the data into “attributes” and “labels”. \n",
    "#X variable contains all the attributes/features and y variable contains labels.\n",
    "X=df_restaurant_LA[['stars_x','useful','negative','neutral','positive','compound','stars_y_userMean']]\n",
    "y = df_restaurant_LA['stars_y_userRating']"
   ]
  },
  {
   "cell_type": "code",
   "execution_count": 7,
   "metadata": {},
   "outputs": [
    {
     "data": {
      "text/html": [
       "<div>\n",
       "<style scoped>\n",
       "    .dataframe tbody tr th:only-of-type {\n",
       "        vertical-align: middle;\n",
       "    }\n",
       "\n",
       "    .dataframe tbody tr th {\n",
       "        vertical-align: top;\n",
       "    }\n",
       "\n",
       "    .dataframe thead th {\n",
       "        text-align: right;\n",
       "    }\n",
       "</style>\n",
       "<table border=\"1\" class=\"dataframe\">\n",
       "  <thead>\n",
       "    <tr style=\"text-align: right;\">\n",
       "      <th></th>\n",
       "      <th>stars_x</th>\n",
       "      <th>useful</th>\n",
       "      <th>negative</th>\n",
       "      <th>neutral</th>\n",
       "      <th>positive</th>\n",
       "      <th>compound</th>\n",
       "      <th>stars_y_userMean</th>\n",
       "    </tr>\n",
       "  </thead>\n",
       "  <tbody>\n",
       "    <tr>\n",
       "      <th>0</th>\n",
       "      <td>3.5</td>\n",
       "      <td>1</td>\n",
       "      <td>0.066</td>\n",
       "      <td>0.868</td>\n",
       "      <td>0.066</td>\n",
       "      <td>-0.2694</td>\n",
       "      <td>3.000000</td>\n",
       "    </tr>\n",
       "    <tr>\n",
       "      <th>1</th>\n",
       "      <td>4.0</td>\n",
       "      <td>0</td>\n",
       "      <td>0.103</td>\n",
       "      <td>0.742</td>\n",
       "      <td>0.155</td>\n",
       "      <td>0.2373</td>\n",
       "      <td>3.000000</td>\n",
       "    </tr>\n",
       "    <tr>\n",
       "      <th>2</th>\n",
       "      <td>3.5</td>\n",
       "      <td>0</td>\n",
       "      <td>0.034</td>\n",
       "      <td>0.730</td>\n",
       "      <td>0.236</td>\n",
       "      <td>0.9183</td>\n",
       "      <td>4.000000</td>\n",
       "    </tr>\n",
       "    <tr>\n",
       "      <th>3</th>\n",
       "      <td>3.5</td>\n",
       "      <td>0</td>\n",
       "      <td>0.094</td>\n",
       "      <td>0.862</td>\n",
       "      <td>0.044</td>\n",
       "      <td>-0.3744</td>\n",
       "      <td>2.666667</td>\n",
       "    </tr>\n",
       "    <tr>\n",
       "      <th>4</th>\n",
       "      <td>4.0</td>\n",
       "      <td>1</td>\n",
       "      <td>0.076</td>\n",
       "      <td>0.809</td>\n",
       "      <td>0.116</td>\n",
       "      <td>0.6753</td>\n",
       "      <td>2.666667</td>\n",
       "    </tr>\n",
       "  </tbody>\n",
       "</table>\n",
       "</div>"
      ],
      "text/plain": [
       "   stars_x  useful  negative  neutral  positive  compound  stars_y_userMean\n",
       "0      3.5       1     0.066    0.868     0.066   -0.2694          3.000000\n",
       "1      4.0       0     0.103    0.742     0.155    0.2373          3.000000\n",
       "2      3.5       0     0.034    0.730     0.236    0.9183          4.000000\n",
       "3      3.5       0     0.094    0.862     0.044   -0.3744          2.666667\n",
       "4      4.0       1     0.076    0.809     0.116    0.6753          2.666667"
      ]
     },
     "execution_count": 7,
     "metadata": {},
     "output_type": "execute_result"
    }
   ],
   "source": [
    "X.head()"
   ]
  },
  {
   "cell_type": "code",
   "execution_count": 8,
   "metadata": {},
   "outputs": [
    {
     "data": {
      "text/plain": [
       "<matplotlib.axes._subplots.AxesSubplot at 0x1a17c6fc88>"
      ]
     },
     "execution_count": 8,
     "metadata": {},
     "output_type": "execute_result"
    },
    {
     "data": {
      "image/png": "[encoded data removed]",
      "text/plain": [
       "<Figure size 1080x720 with 1 Axes>"
      ]
     },
     "metadata": {
      "needs_background": "light"
     },
     "output_type": "display_data"
    }
   ],
   "source": [
    "plt.figure(figsize=(15,10))\n",
    "plt.tight_layout()\n",
    "seabornInstance.distplot(df_restaurant_LA['stars_y_userRating'])\n",
    "#As we can observe that most of the time the value is either 4 or 5."
   ]
  },
  {
   "cell_type": "code",
   "execution_count": 93,
   "metadata": {},
   "outputs": [],
   "source": [
    "#split 80% of the data to training set while 20% of the data to test set using below code\n",
    "X_train, X_test, y_train, y_test = train_test_split(X, y, test_size=0.2, random_state=0)"
   ]
  },
  {
   "cell_type": "markdown",
   "metadata": {},
   "source": [
    "# GaussianNB"
   ]
  },
  {
   "cell_type": "code",
   "execution_count": 10,
   "metadata": {},
   "outputs": [
    {
     "data": {
      "text/plain": [
       "GaussianNB(priors=None, var_smoothing=1e-09)"
      ]
     },
     "execution_count": 10,
     "metadata": {},
     "output_type": "execute_result"
    }
   ],
   "source": [
    "#Create Navive Bayes model using sklearn\n",
    "GaussianNBmodel = GaussianNB()\n",
    "GaussianNBmodel.fit(X_train, y_train)"
   ]
  },
  {
   "cell_type": "code",
   "execution_count": 11,
   "metadata": {},
   "outputs": [
    {
     "data": {
      "text/plain": [
       "array([4, 3, 2, ..., 4, 5, 5])"
      ]
     },
     "execution_count": 11,
     "metadata": {},
     "output_type": "execute_result"
    }
   ],
   "source": [
    "y_pred=GaussianNBmodel.predict(X_test)\n",
    "y_pred"
   ]
  },
  {
   "cell_type": "code",
   "execution_count": 12,
   "metadata": {},
   "outputs": [
    {
     "data": {
      "text/html": [
       "<div>\n",
       "<style scoped>\n",
       "    .dataframe tbody tr th:only-of-type {\n",
       "        vertical-align: middle;\n",
       "    }\n",
       "\n",
       "    .dataframe tbody tr th {\n",
       "        vertical-align: top;\n",
       "    }\n",
       "\n",
       "    .dataframe thead th {\n",
       "        text-align: right;\n",
       "    }\n",
       "</style>\n",
       "<table border=\"1\" class=\"dataframe\">\n",
       "  <thead>\n",
       "    <tr style=\"text-align: right;\">\n",
       "      <th></th>\n",
       "      <th>Actual</th>\n",
       "      <th>Predicted</th>\n",
       "    </tr>\n",
       "  </thead>\n",
       "  <tbody>\n",
       "    <tr>\n",
       "      <th>10224</th>\n",
       "      <td>4</td>\n",
       "      <td>4</td>\n",
       "    </tr>\n",
       "    <tr>\n",
       "      <th>151844</th>\n",
       "      <td>1</td>\n",
       "      <td>3</td>\n",
       "    </tr>\n",
       "    <tr>\n",
       "      <th>5616</th>\n",
       "      <td>3</td>\n",
       "      <td>2</td>\n",
       "    </tr>\n",
       "    <tr>\n",
       "      <th>2332</th>\n",
       "      <td>4</td>\n",
       "      <td>4</td>\n",
       "    </tr>\n",
       "    <tr>\n",
       "      <th>175718</th>\n",
       "      <td>3</td>\n",
       "      <td>4</td>\n",
       "    </tr>\n",
       "    <tr>\n",
       "      <th>55870</th>\n",
       "      <td>4</td>\n",
       "      <td>5</td>\n",
       "    </tr>\n",
       "    <tr>\n",
       "      <th>127875</th>\n",
       "      <td>4</td>\n",
       "      <td>4</td>\n",
       "    </tr>\n",
       "    <tr>\n",
       "      <th>55235</th>\n",
       "      <td>2</td>\n",
       "      <td>2</td>\n",
       "    </tr>\n",
       "    <tr>\n",
       "      <th>168359</th>\n",
       "      <td>4</td>\n",
       "      <td>5</td>\n",
       "    </tr>\n",
       "    <tr>\n",
       "      <th>134644</th>\n",
       "      <td>3</td>\n",
       "      <td>3</td>\n",
       "    </tr>\n",
       "    <tr>\n",
       "      <th>136545</th>\n",
       "      <td>5</td>\n",
       "      <td>5</td>\n",
       "    </tr>\n",
       "    <tr>\n",
       "      <th>160946</th>\n",
       "      <td>2</td>\n",
       "      <td>2</td>\n",
       "    </tr>\n",
       "    <tr>\n",
       "      <th>139586</th>\n",
       "      <td>3</td>\n",
       "      <td>3</td>\n",
       "    </tr>\n",
       "    <tr>\n",
       "      <th>161113</th>\n",
       "      <td>4</td>\n",
       "      <td>5</td>\n",
       "    </tr>\n",
       "    <tr>\n",
       "      <th>134389</th>\n",
       "      <td>2</td>\n",
       "      <td>2</td>\n",
       "    </tr>\n",
       "    <tr>\n",
       "      <th>137474</th>\n",
       "      <td>5</td>\n",
       "      <td>5</td>\n",
       "    </tr>\n",
       "    <tr>\n",
       "      <th>91182</th>\n",
       "      <td>4</td>\n",
       "      <td>4</td>\n",
       "    </tr>\n",
       "    <tr>\n",
       "      <th>118461</th>\n",
       "      <td>4</td>\n",
       "      <td>4</td>\n",
       "    </tr>\n",
       "    <tr>\n",
       "      <th>7503</th>\n",
       "      <td>2</td>\n",
       "      <td>3</td>\n",
       "    </tr>\n",
       "    <tr>\n",
       "      <th>55822</th>\n",
       "      <td>5</td>\n",
       "      <td>3</td>\n",
       "    </tr>\n",
       "    <tr>\n",
       "      <th>46526</th>\n",
       "      <td>5</td>\n",
       "      <td>4</td>\n",
       "    </tr>\n",
       "    <tr>\n",
       "      <th>22714</th>\n",
       "      <td>4</td>\n",
       "      <td>4</td>\n",
       "    </tr>\n",
       "    <tr>\n",
       "      <th>46985</th>\n",
       "      <td>5</td>\n",
       "      <td>2</td>\n",
       "    </tr>\n",
       "    <tr>\n",
       "      <th>176432</th>\n",
       "      <td>5</td>\n",
       "      <td>5</td>\n",
       "    </tr>\n",
       "    <tr>\n",
       "      <th>164450</th>\n",
       "      <td>5</td>\n",
       "      <td>5</td>\n",
       "    </tr>\n",
       "  </tbody>\n",
       "</table>\n",
       "</div>"
      ],
      "text/plain": [
       "        Actual  Predicted\n",
       "10224        4          4\n",
       "151844       1          3\n",
       "5616         3          2\n",
       "2332         4          4\n",
       "175718       3          4\n",
       "55870        4          5\n",
       "127875       4          4\n",
       "55235        2          2\n",
       "168359       4          5\n",
       "134644       3          3\n",
       "136545       5          5\n",
       "160946       2          2\n",
       "139586       3          3\n",
       "161113       4          5\n",
       "134389       2          2\n",
       "137474       5          5\n",
       "91182        4          4\n",
       "118461       4          4\n",
       "7503         2          3\n",
       "55822        5          3\n",
       "46526        5          4\n",
       "22714        4          4\n",
       "46985        5          2\n",
       "176432       5          5\n",
       "164450       5          5"
      ]
     },
     "execution_count": 12,
     "metadata": {},
     "output_type": "execute_result"
    }
   ],
   "source": [
    "df = pd.DataFrame({'Actual': y_test, 'Predicted': y_pred})\n",
    "df1 = df.head(25)\n",
    "df1.head(25)"
   ]
  },
  {
   "cell_type": "code",
   "execution_count": 13,
   "metadata": {},
   "outputs": [
    {
     "data": {
      "image/png": "[encoded data removed]",
      "text/plain": [
       "<Figure size 720x576 with 1 Axes>"
      ]
     },
     "metadata": {
      "needs_background": "light"
     },
     "output_type": "display_data"
    }
   ],
   "source": [
    "#plot 25 rows for comparison of Actual and Predicted values\n",
    "df1.plot(kind='bar',figsize=(10,8))\n",
    "plt.grid(which='major', linestyle='-', linewidth='0.5', color='green')\n",
    "plt.grid(which='minor', linestyle=':', linewidth='0.5', color='black')\n",
    "plt.show()"
   ]
  },
  {
   "cell_type": "code",
   "execution_count": 14,
   "metadata": {},
   "outputs": [
    {
     "name": "stdout",
     "output_type": "stream",
     "text": [
      "Mean Absolute Error: 0.3451082348951563\n",
      "Mean Squared Error: 0.4648731136607698\n",
      "Root Mean Squared Error: 0.6818160409236276\n"
     ]
    }
   ],
   "source": [
    "#finding the values for MAE, MSE, and RMSE.\n",
    "print('Mean Absolute Error:', metrics.mean_absolute_error(y_test, y_pred))  \n",
    "print('Mean Squared Error:', metrics.mean_squared_error(y_test, y_pred))  \n",
    "print('Root Mean Squared Error:', np.sqrt(metrics.mean_squared_error(y_test, y_pred)))"
   ]
  },
  {
   "cell_type": "code",
   "execution_count": 15,
   "metadata": {},
   "outputs": [
    {
     "name": "stdout",
     "output_type": "stream",
     "text": [
      "Accuracy Scores [0.5749887  0.60466825 0.63688256 0.67621793 0.69332504 0.71800814\n",
      " 0.73003222 0.78378837 0.78904528 0.80922503]\n",
      "Average Accuracy Scores : 0.7016181509924684\n",
      "neg_mean_absolute_error [0.50367315 0.46450774 0.42737651 0.38182435 0.36059459 0.32404477\n",
      " 0.30670963 0.24283534 0.2436267  0.23254762]\n",
      "Average Mean Absolute Error : 0.34877403919804095\n",
      "neg_mean_squared_error [0.67975814 0.62512716 0.57273652 0.51395953 0.48776352 0.4223943\n",
      " 0.39364649 0.30523995 0.3269459  0.33757278]\n",
      "Average Mean Squared Error : 0.46651443003965304\n",
      "Root Mean Squared Error [0.82447446 0.79064984 0.75679358 0.71690971 0.69840069 0.64991869\n",
      " 0.62741253 0.55248525 0.57179184 0.58101014]\n",
      "Average Root Mean Squared Error : 0.6769846720921406\n"
     ]
    }
   ],
   "source": [
    "# To further improve accuracy, use k-fold cross-validation\n",
    "from sklearn.model_selection import cross_val_score\n",
    "from sklearn.model_selection import cross_val_predict\n",
    "GaussianNB_crossVal = GaussianNB()\n",
    "cv_scores = cross_val_score(GaussianNB_crossVal, X, y, cv=10,n_jobs=-1)\n",
    "print('Accuracy Scores', cv_scores)\n",
    "print('Average Accuracy Scores :', cv_scores.mean())\n",
    "\n",
    "cv_scores1 = cross_val_score(GaussianNB_crossVal, X, y, cv=10,n_jobs=-1, scoring='neg_mean_absolute_error')\n",
    "cv_scores2=cross_val_score(GaussianNB_crossVal, X, y, cv=10,n_jobs=-1, scoring='neg_mean_squared_error')\n",
    "print('neg_mean_absolute_error', abs(cv_scores1))\n",
    "print('Average Mean Absolute Error :', abs(cv_scores1.mean()))\n",
    "print('neg_mean_squared_error', abs(cv_scores2))\n",
    "print('Average Mean Squared Error :',abs(cv_scores2.mean()))\n",
    "rmse=np.sqrt(abs(cv_scores2))\n",
    "print('Root Mean Squared Error', rmse)\n",
    "print('Average Root Mean Squared Error :', rmse.mean())\n",
    "#output is the accuracy of each fold."
   ]
  },
  {
   "cell_type": "markdown",
   "metadata": {},
   "source": [
    "# KNN"
   ]
  },
  {
   "cell_type": "code",
   "execution_count": 16,
   "metadata": {},
   "outputs": [
    {
     "name": "stdout",
     "output_type": "stream",
     "text": [
      "X_train.shape: (141541, 7)\n",
      "X_test.shape: (35386, 7)\n"
     ]
    }
   ],
   "source": [
    "#train model using K-nearest neighbors(KNeighborsClassifier) \n",
    "\n",
    "\n",
    "X_train, X_test, y_train, y_test = train_test_split(X, y, test_size=0.2, random_state=4,stratify=y)\n",
    "print ('X_train.shape:',X_train.shape)\n",
    "print ('X_test.shape:',X_test.shape)\n"
   ]
  },
  {
   "cell_type": "code",
   "execution_count": 17,
   "metadata": {},
   "outputs": [
    {
     "name": "stderr",
     "output_type": "stream",
     "text": [
      "/anaconda3/lib/python3.7/site-packages/sklearn/preprocessing/data.py:334: DataConversionWarning: Data with input dtype int64, float64 were all converted to float64 by MinMaxScaler.\n",
      "  return self.partial_fit(X, y)\n",
      "/anaconda3/lib/python3.7/site-packages/sklearn/preprocessing/data.py:334: DataConversionWarning: Data with input dtype int64, float64 were all converted to float64 by MinMaxScaler.\n",
      "  return self.partial_fit(X, y)\n",
      "/anaconda3/lib/python3.7/site-packages/sklearn/preprocessing/data.py:334: DataConversionWarning: Data with input dtype int64, float64 were all converted to float64 by MinMaxScaler.\n",
      "  return self.partial_fit(X, y)\n"
     ]
    }
   ],
   "source": [
    "#it's important to pre-process data with MinMax scaling, \n",
    "#in order to normalize the data set. \n",
    "#The data in our data set are spread across a wide range of values, \n",
    "#which might result in various features affecting the final result more than the other features.\n",
    "\n",
    "from sklearn.preprocessing import MinMaxScaler\n",
    "scaler = MinMaxScaler(feature_range=(0, 1))\n",
    "\n",
    "x_train_scaled = scaler.fit_transform(X_train)\n",
    "x_train = pd.DataFrame(x_train_scaled)\n",
    "\n",
    "x_test_scaled = scaler.fit_transform(X_test)\n",
    "x_test = pd.DataFrame(x_test_scaled)\n",
    "\n",
    "x_scaled = scaler.fit_transform(X)\n",
    "x_scaled = pd.DataFrame(x_scaled)"
   ]
  },
  {
   "cell_type": "code",
   "execution_count": 18,
   "metadata": {},
   "outputs": [
    {
     "name": "stdout",
     "output_type": "stream",
     "text": [
      "Scores MAE : [(900, 0.2703046402532075), (905, 0.27044593907194936), (910, 0.270417679308201), (915, 0.2705872378906912), (920, 0.27036115978070424), (925, 0.27036115978070424), (930, 0.2705307183631945), (935, 0.2703894195444526), (940, 0.27036115978070424), (945, 0.27064375741818797), (950, 0.2707002769456847), (955, 0.2707285367094331), (960, 0.27092635505567175), (965, 0.2708980952919234), (970, 0.27101113434691687), (975, 0.2710676538744136), (980, 0.27135025151189734), (985, 0.2712937319844006), (990, 0.27151981009438764), (995, 0.2713785112756457)] \n",
      "\n",
      "Scores MSE : [(900, 0.34197140111908664), (905, 0.34216921946532525), (910, 0.3421409597015769), (915, 0.3423670378115639), (920, 0.3421409597015769), (925, 0.34208444017408013), (930, 0.34208444017408013), (935, 0.34166054371785454), (940, 0.3415757644266094), (945, 0.34208444017408013), (950, 0.3421409597015769), (955, 0.3421126999378285), (960, 0.3421974792290736), (965, 0.342225738992822), (970, 0.34216921946532525), (975, 0.3422822585203188), (980, 0.3429604928502798), (985, 0.34284745379528625), (990, 0.3431865709602668), (995, 0.34298875261402817)] \n",
      "\n",
      "Accuracy : [(900, 0.764087492228565), (905, 0.7639744531735715), (910, 0.7640027129373198), (915, 0.763861414118578), (920, 0.7641157519923133), (925, 0.764087492228565), (930, 0.7638331543548296), (935, 0.7638331543548296), (940, 0.763861414118578), (945, 0.7636918555360878), (950, 0.763635336008591), (955, 0.7635788164810943), (960, 0.7633244786073589), (965, 0.7633809981348556), (970, 0.7631831797886169), (975, 0.7631549200248686), (980, 0.7630701407336234), (985, 0.7630984004973719), (990, 0.7629288419148816), (995, 0.7630418809698751)] \n",
      "\n"
     ]
    }
   ],
   "source": [
    "#run knn using initial k value range from 1-10\n",
    "k_range = range(900, 1000, 5)\n",
    "\n",
    "scores_mse = []\n",
    "scores_mae = []\n",
    "scores_accuracy=[]\n",
    "\n",
    "# We use a loop through the range 1 to 19\n",
    "# We append the scores in the dictionary\n",
    "for k in k_range:\n",
    "    knn = neighbors.KNeighborsClassifier(n_neighbors = k,n_jobs=-1)\n",
    "    knn.fit(x_train, y_train)\n",
    "    y_pred = knn.predict(x_test)\n",
    "    mae_knn=mean_absolute_error(y_test,y_pred)\n",
    "    mse_knn=mean_squared_error(y_test,y_pred)\n",
    "    accuracy_knn=accuracy_score(y_test,y_pred)\n",
    "    scores_mse.append((k,mse_knn))\n",
    "    scores_mae.append((k,mae_knn))\n",
    "    scores_accuracy.append((k,accuracy_knn))\n",
    "\n",
    "print(\"Scores MAE :\",  scores_mae, '\\n' )\n",
    "print(\"Scores MSE :\",  scores_mse, '\\n' )\n",
    "print(\"Accuracy :\",  scores_accuracy, '\\n' )\n"
   ]
  },
  {
   "cell_type": "code",
   "execution_count": 252,
   "metadata": {},
   "outputs": [
    {
     "data": {
      "text/plain": [
       "<matplotlib.legend.Legend at 0x1a252dd5f8>"
      ]
     },
     "execution_count": 252,
     "metadata": {},
     "output_type": "execute_result"
    },
    {
     "data": {
      "image/png": "[encoded data removed]",
      "text/plain": [
       "<Figure size 432x288 with 1 Axes>"
      ]
     },
     "metadata": {
      "needs_background": "light"
     },
     "output_type": "display_data"
    }
   ],
   "source": [
    "# locate the best vakue for K for K range between 1- 2000\n",
    "import matplotlib.pyplot as plt\n",
    "\n",
    "# allow plots to appear within the notebook\n",
    "%matplotlib inline\n",
    "\n",
    "# plot the relationship between K and testing accuracy\n",
    "# plt.plot(x_axis, y_axis)\n",
    "plt.plot([i[0] for i in scores_mse],[i[1] for i in scores_mse], label='MSE')\n",
    "#plt.plot([i[0] for i in scores_accuracy],[i[1] for i in scores_accuracy], label='Accuracy')\n",
    "plt.xlabel('Value of K From 1-2000')\n",
    "plt.legend(loc=\"upper right\")\n",
    "\n",
    "#plt.ylabel('Mean Square Error')"
   ]
  },
  {
   "cell_type": "code",
   "execution_count": 255,
   "metadata": {},
   "outputs": [
    {
     "data": {
      "text/plain": [
       "<matplotlib.legend.Legend at 0x1a24127e80>"
      ]
     },
     "execution_count": 255,
     "metadata": {},
     "output_type": "execute_result"
    },
    {
     "data": {
      "image/png": "[encoded data removed]",
      "text/plain": [
       "<Figure size 432x288 with 1 Axes>"
      ]
     },
     "metadata": {
      "needs_background": "light"
     },
     "output_type": "display_data"
    }
   ],
   "source": [
    "# locate the best vakue for K\n",
    "import matplotlib.pyplot as plt\n",
    "\n",
    "# allow plots to appear within the notebook\n",
    "%matplotlib inline\n",
    "\n",
    "# plot the relationship between K and testing accuracy\n",
    "# plt.plot(x_axis, y_axis)\n",
    "plt.plot([i[0] for i in scores_mse],[i[1] for i in scores_mse], label='MSE')\n",
    "#plt.plot([i[0] for i in scores_accuracy],[i[1] for i in scores_accuracy], label='Accuracy')\n",
    "plt.xlabel('Value of K for KNN')\n",
    "plt.legend(loc=\"upper right\")\n",
    "\n",
    "#plt.ylabel('Mean Square Error')"
   ]
  },
  {
   "cell_type": "markdown",
   "metadata": {},
   "source": [
    "from sklearn.model_selection import GridSearchCV\n",
    "param_grid = {\"n_neighbors\": np.arange(935, 945)}\n",
    "\n",
    "\n",
    "knn = neighbors.KNeighborsClassifier()\n",
    "\n",
    "knn_gscv = GridSearchCV(knn, param_grid, cv=10, n_jobs=-1)\n",
    "knn_gscv.fit(x_scaled,y)\n",
    "#check top performing n_neighbors value\n",
    "print (knn_gscv.best_params_)\n",
    "print(knn_gscv.best_estimator_)\n",
    "print (knn_gscv.best_score_)\n"
   ]
  },
  {
   "cell_type": "code",
   "execution_count": 38,
   "metadata": {},
   "outputs": [
    {
     "name": "stdout",
     "output_type": "stream",
     "text": [
      "[0.3333379183040644, 0.33353571279164135, 0.3337829767417926, 0.333952543609357, 0.3330058327302612, 0.3335286441533485]\n"
     ]
    }
   ],
   "source": [
    "#perform 10 fold cross validation over a range k values from 1-19. \n",
    "# empty list that will hold cv scores\n",
    "cv_scores = []\n",
    "# perform 10-fold cross validation\n",
    "for k in [105,106,107,108,109,110]:\n",
    "    knn = neighbors.KNeighborsClassifier(n_neighbors=k, n_jobs=-1)\n",
    "    scores = cross_val_score(knn, x_train, y_train, cv=10, scoring='neg_mean_squared_error')\n",
    "    cv_scores.append(abs(scores.mean()))\n",
    "print (cv_scores)"
   ]
  },
  {
   "cell_type": "code",
   "execution_count": 41,
   "metadata": {},
   "outputs": [
    {
     "name": "stdout",
     "output_type": "stream",
     "text": [
      "[0.2594088227235549, 0.259649017038711, 0.2597832497203943, 0.25992455203411036, 0.2594158738858483, 0.2597691299196666]\n"
     ]
    }
   ],
   "source": [
    "#perform 10 fold cross validation over a range k values from 1-19. \n",
    "# empty list that will hold cv scores\n",
    "cv_scores_mae = []\n",
    "# perform 10-fold cross validation\n",
    "for k in [105,106,107,108,109,110]:\n",
    "    knn = neighbors.KNeighborsClassifier(n_neighbors=k, n_jobs=-1)\n",
    "    scores = cross_val_score(knn, x_train, y_train, cv=10, scoring='neg_mean_absolute_error')\n",
    "    cv_scores_mae.append(abs(scores.mean()))\n",
    "print (cv_scores_mae)"
   ]
  },
  {
   "cell_type": "code",
   "execution_count": 40,
   "metadata": {},
   "outputs": [
    {
     "data": {
      "text/plain": [
       "<matplotlib.legend.Legend at 0x1a20d87eb8>"
      ]
     },
     "execution_count": 40,
     "metadata": {},
     "output_type": "execute_result"
    },
    {
     "data": {
      "image/png": "[encoded data removed]",
      "text/plain": [
       "<Figure size 432x288 with 1 Axes>"
      ]
     },
     "metadata": {
      "needs_background": "light"
     },
     "output_type": "display_data"
    }
   ],
   "source": [
    "# locate the best vakue for K\n",
    "import matplotlib.pyplot as plt\n",
    "\n",
    "# allow plots to appear within the notebook\n",
    "%matplotlib inline\n",
    "\n",
    "# plot the relationship between K and testing accuracy\n",
    "# plt.plot(x_axis, y_axis)\n",
    "plt.plot([n for n in [105,106,107,108,109,110]],[i for i in cv_scores], label='MSE')\n",
    "#plt.plot([i[0] for i in scores_accuracy],[i[1] for i in scores_accuracy], label='Accuracy')\n",
    "plt.xlabel('Value of K for KNN')\n",
    "plt.legend(loc=\"upper right\")\n",
    "\n",
    "#plt.ylabel('Mean Square Error')"
   ]
  },
  {
   "cell_type": "code",
   "execution_count": 219,
   "metadata": {},
   "outputs": [
    {
     "name": "stdout",
     "output_type": "stream",
     "text": [
      "The optimal number of neighbors is 19\n"
     ]
    },
    {
     "data": {
      "image/png": "[encoded data removed]",
      "text/plain": [
       "<Figure size 432x288 with 1 Axes>"
      ]
     },
     "metadata": {
      "needs_background": "light"
     },
     "output_type": "display_data"
    }
   ],
   "source": [
    "# changing to misclassification error\n",
    "MSE = [abs(x) for x in cv_scores]\n",
    "\n",
    "# determining best k\n",
    "optimal_k = num_neighbors[MSE.index(min(MSE))]\n",
    "print (\"The optimal number of neighbors is %d\" % optimal_k)\n",
    "\n",
    "# plot misclassification error vs k\n",
    "plt.plot(num_neighbors, MSE)\n",
    "plt.xlabel('Number of Neighbors K')\n",
    "plt.ylabel('Mean Squared Error')\n",
    "plt.show()"
   ]
  },
  {
   "cell_type": "code",
   "execution_count": 42,
   "metadata": {},
   "outputs": [],
   "source": [
    "#train Random Forest Classifier\n",
    "from sklearn.model_selection import cross_val_score, GridSearchCV, cross_validate\n",
    "from sklearn.ensemble import RandomForestClassifier"
   ]
  },
  {
   "cell_type": "code",
   "execution_count": 47,
   "metadata": {},
   "outputs": [],
   "source": [
    "def rfr_model(X, y):\n",
    "# Perform Grid-Search\n",
    "    gsc = GridSearchCV(\n",
    "        estimator=RandomForestClassifier(),\n",
    "        param_grid={\n",
    "            'max_depth': range(4,13),\n",
    "            'n_estimators': (50,100,200,300),\n",
    "        },\n",
    "        cv=5, scoring='neg_mean_squared_error',verbose=0,  n_jobs=-1) \n",
    "    \n",
    "    grid_result = gsc.fit(X, y)\n",
    "    best_params = grid_result.best_params_\n",
    "#    best_mse=grid_result.best_score_\n",
    "\n",
    "    rfr = RandomForestClassifier(max_depth=best_params[\"max_depth\"], n_estimators=best_params[\"n_estimators\"],random_state=False, verbose=False)\n",
    "                \n",
    "# Perform K-Fold CV\n",
    "    scoring = {\n",
    "               'negMAE': 'neg_mean_absolute_error',\n",
    "               'negMSE': 'neg_mean_squared_error'}\n",
    "    scores = cross_validate(rfr, X, y, cv=5, scoring=scoring)\n",
    "\n",
    "    print ('MAE :',abs(scores['test_negMAE'].mean()), '|MSE :',abs(scores['test_negMSE'].mean()), 'best_param', best_params)\n",
    "    return grid_result\n",
    "    #return best_params, best_mse\n",
    " "
   ]
  },
  {
   "cell_type": "code",
   "execution_count": 48,
   "metadata": {},
   "outputs": [
    {
     "name": "stdout",
     "output_type": "stream",
     "text": [
      "MAE : 0.26318338566497773 |MSE : 0.332284190137757 best_param {'max_depth': 12, 'n_estimators': 300}\n"
     ]
    }
   ],
   "source": [
    "#predictions = cross_val_predict(rfr, X, y, cv=5)\n",
    "rfr_model_result= rfr_model(X, y)\n"
   ]
  },
  {
   "cell_type": "code",
   "execution_count": 49,
   "metadata": {},
   "outputs": [],
   "source": [
    "import pickle\n",
    "filname='rfr_model_result.pkl'\n",
    "pickle.dump(rfr_model_result,open(filname,'wb'))"
   ]
  },
  {
   "cell_type": "code",
   "execution_count": 103,
   "metadata": {},
   "outputs": [
    {
     "name": "stdout",
     "output_type": "stream",
     "text": [
      " Confusion matrix  [[ 2805   191   354    43     1]\n",
      " [   72  2029   780   247     1]\n",
      " [   44   132  3177  1529    65]\n",
      " [    3    27   783  8055   804]\n",
      " [    1     5   305  2452 11481]]\n"
     ]
    }
   ],
   "source": [
    "from sklearn.metrics import confusion_matrix\n",
    "rfc = RandomForestClassifier(max_depth=12, n_estimators=300,random_state=False, verbose=False)\n",
    "rfc_fit = rfc.fit(X_train, y_train)\n",
    "y_pred=rfc.predict(X_test)\n",
    "y_pred\n",
    "print (\" Confusion matrix \", confusion_matrix(y_test,y_pred ))\n"
   ]
  },
  {
   "cell_type": "code",
   "execution_count": 127,
   "metadata": {},
   "outputs": [
    {
     "data": {
      "image/png": "[encoded data removed]",
      "text/plain": [
       "<Figure size 576x576 with 2 Axes>"
      ]
     },
     "metadata": {
      "needs_background": "light"
     },
     "output_type": "display_data"
    }
   ],
   "source": [
    "fig = plt.figure(figsize=(8,8))\n",
    "ax = fig.add_subplot(111)\n",
    "cax = ax.matshow(confusion_matrix(y_test,y_pred ))\n",
    "plt.title('Confusion matrix of the classifier')\n",
    "fig.colorbar(cax)\n",
    "plt.xlabel('Predicted')\n",
    "plt.ylabel('True')\n",
    "plt.show()"
   ]
  },
  {
   "cell_type": "code",
   "execution_count": 115,
   "metadata": {},
   "outputs": [
    {
     "data": {
      "text/plain": [
       "<matplotlib.axes._subplots.AxesSubplot at 0x1a1c489390>"
      ]
     },
     "execution_count": 115,
     "metadata": {},
     "output_type": "execute_result"
    },
    {
     "data": {
      "image/png": "[encoded data removed]",
      "text/plain": [
       "<Figure size 432x288 with 2 Axes>"
      ]
     },
     "metadata": {
      "needs_background": "light"
     },
     "output_type": "display_data"
    }
   ],
   "source": [
    "import seaborn as sns\n",
    "sns.heatmap(confusion_matrix(y_test,y_pred ), \n",
    "            annot=True,fmt='g',\n",
    "            xticklabels=pd.DataFrame(confusion_matrix(y_test,y_pred )).columns,\n",
    "            yticklabels=pd.DataFrame(confusion_matrix(y_test,y_pred )).columns)"
   ]
  },
  {
   "cell_type": "code",
   "execution_count": 131,
   "metadata": {},
   "outputs": [
    {
     "name": "stdout",
     "output_type": "stream",
     "text": [
      "              precision    recall  f1-score   support\n",
      "\n",
      "           1       0.96      0.83      0.89      3394\n",
      "           2       0.85      0.65      0.74      3129\n",
      "           3       0.59      0.64      0.61      4947\n",
      "           4       0.65      0.83      0.73      9672\n",
      "           5       0.93      0.81      0.86     14244\n",
      "\n",
      "   micro avg       0.78      0.78      0.78     35386\n",
      "   macro avg       0.80      0.75      0.77     35386\n",
      "weighted avg       0.80      0.78      0.78     35386\n",
      "\n"
     ]
    }
   ],
   "source": [
    "from sklearn.metrics import classification_report\n",
    "\n",
    "print(classification_report(y_test, y_pred))"
   ]
  },
  {
   "cell_type": "code",
   "execution_count": 132,
   "metadata": {},
   "outputs": [
    {
     "data": {
      "text/plain": [
       "27547"
      ]
     },
     "execution_count": 132,
     "metadata": {},
     "output_type": "execute_result"
    }
   ],
   "source": [
    "accuracy_score(y_test, y_pred, normalize=False)"
   ]
  },
  {
   "cell_type": "code",
   "execution_count": 133,
   "metadata": {},
   "outputs": [
    {
     "data": {
      "text/plain": [
       "(35386,)"
      ]
     },
     "execution_count": 133,
     "metadata": {},
     "output_type": "execute_result"
    }
   ],
   "source": [
    "y_test.shape"
   ]
  },
  {
   "cell_type": "code",
   "execution_count": 134,
   "metadata": {},
   "outputs": [
    {
     "name": "stdout",
     "output_type": "stream",
     "text": [
      "Random Forest Model Accuracy : 77.84717119764879\n"
     ]
    }
   ],
   "source": [
    "print('Random Forest Model Accuracy :',(accuracy_score(y_test, y_pred, normalize=False)/y_test.shape[0])*100)"
   ]
  },
  {
   "cell_type": "code",
   "execution_count": null,
   "metadata": {},
   "outputs": [],
   "source": []
  }
 ],
 "metadata": {
  "kernelspec": {
   "display_name": "Python 3",
   "language": "python",
   "name": "python3"
  },
  "language_info": {
   "codemirror_mode": {
    "name": "ipython",
    "version": 3
   },
   "file_extension": ".py",
   "mimetype": "text/x-python",
   "name": "python",
   "nbconvert_exporter": "python",
   "pygments_lexer": "ipython3",
   "version": "3.7.3"
  }
 },
 "nbformat": 4,
 "nbformat_minor": 2
}
